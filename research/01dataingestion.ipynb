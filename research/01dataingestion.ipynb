{
 "cells": [
  {
   "cell_type": "code",
   "execution_count": 2,
   "metadata": {},
   "outputs": [],
   "source": [
    "import os"
   ]
  },
  {
   "cell_type": "code",
   "execution_count": 3,
   "metadata": {},
   "outputs": [
    {
     "data": {
      "text/plain": [
       "'c:\\\\Users\\\\PCS\\\\Desktop\\\\NLP end-to-end Project\\\\endToend-NLP-Project\\\\research'"
      ]
     },
     "execution_count": 3,
     "metadata": {},
     "output_type": "execute_result"
    }
   ],
   "source": [
    "%pwd"
   ]
  },
  {
   "cell_type": "code",
   "execution_count": 6,
   "metadata": {},
   "outputs": [],
   "source": [
    "os.chdir(\"../\")"
   ]
  },
  {
   "cell_type": "code",
   "execution_count": 4,
   "metadata": {},
   "outputs": [
    {
     "data": {
      "text/plain": [
       "'c:\\\\Users\\\\PCS\\\\Desktop\\\\NLP end-to-end Project\\\\endToend-NLP-Project'"
      ]
     },
     "execution_count": 4,
     "metadata": {},
     "output_type": "execute_result"
    }
   ],
   "source": [
    "%pwd"
   ]
  },
  {
   "cell_type": "code",
   "execution_count": 4,
   "metadata": {},
   "outputs": [],
   "source": [
    "from dataclasses import dataclass\n",
    "from pathlib import Path\n",
    "\n",
    "@dataclass(frozen=True)\n",
    "class DataIngestionConfig:\n",
    "    rootdir: Path\n",
    "    source_URL: str\n",
    "    localDataFile: Path\n",
    "    unzipDir: Path"
   ]
  },
  {
   "cell_type": "code",
   "execution_count": 5,
   "metadata": {},
   "outputs": [],
   "source": [
    "from textSummarizer.constants import *\n",
    "from textSummarizer.utils.common import read_yaml , create_directories"
   ]
  },
  {
   "cell_type": "code",
   "execution_count": 7,
   "metadata": {},
   "outputs": [],
   "source": [
    "class ConfigurationManager:\n",
    "    def __init__(self,config_filepath=ConfigFilePath,params_filepath=paramsFilePath) -> None:\n",
    "        \n",
    "        self.config = read_yaml(config_filepath)\n",
    "        self.params= read_yaml(params_filepath)\n",
    "\n",
    "        create_directories([self.config.artifacts_root])\n",
    "    def getDataIngestionConfig(self)-> DataIngestionConfig:\n",
    "        config=self.config.data_ingestion\n",
    "        create_directories([config.root_dir])\n",
    "        DataIngestion_Config=DataIngestionConfig(\n",
    "            rootdir=config.root_dir,\n",
    "            source_URL=config.source_URL,\n",
    "            localDataFile=config.local_data_file,\n",
    "            unzipDir=config.unzip_dir\n",
    "        )\n",
    "        return DataIngestion_Config\n",
    "\n",
    "         "
   ]
  },
  {
   "cell_type": "code",
   "execution_count": 8,
   "metadata": {},
   "outputs": [],
   "source": [
    "import urllib.request as request\n",
    "import zipfile\n",
    "from textSummarizer.logging import logger\n",
    "from textSummarizer.utils.common import get_size"
   ]
  },
  {
   "cell_type": "code",
   "execution_count": 9,
   "metadata": {},
   "outputs": [],
   "source": [
    "class DataIngestion:\n",
    "    def __init__(self,config: DataIngestionConfig) :\n",
    "        self.config = config\n",
    "    def download_file(self):\n",
    "        if not os.path.exists(self.config.localDataFile):\n",
    "            filename,headers=request.urlretrieve(\n",
    "                url = self.config.source_URL,\n",
    "                filename= self.config.localDataFile\n",
    "            )\n",
    "            logger.info(f\"{filename} download! with following info : \\n{headers}\")\n",
    "        else:\n",
    "            logger.info(f\"File already exists of size : {get_size(Path(self.config.localDataFile))}\")\n",
    "    def extractZpFile(self):\n",
    "        unzipPath=self.config.unzipDir\n",
    "        os.makedirs(unzipPath,exist_ok=True)\n",
    "        with zipfile.ZipFile(self.config.localDataFile,'r') as zip_ref:\n",
    "            zip_ref.extractall(unzipPath)\n",
    "        "
   ]
  },
  {
   "cell_type": "code",
   "execution_count": 10,
   "metadata": {},
   "outputs": [
    {
     "name": "stdout",
     "output_type": "stream",
     "text": [
      "[2024-09-19 14:36:22,113; INFO: common: yaml file: config\\config.yaml loaded successfully]\n",
      "[2024-09-19 14:36:22,136; INFO: common: yaml file: params.yaml loaded successfully]\n",
      "[2024-09-19 14:36:22,139; INFO: common: created directory at: artifacts]\n",
      "[2024-09-19 14:36:22,143; INFO: common: created directory at: artifacts/data_ingestion]\n",
      "[2024-09-19 14:36:33,569; INFO: 1715845130: artifacts/data_ingestion/data.zip download! with following info : \n",
      "Connection: close\n",
      "Content-Length: 7903594\n",
      "Cache-Control: max-age=300\n",
      "Content-Security-Policy: default-src 'none'; style-src 'unsafe-inline'; sandbox\n",
      "Content-Type: application/zip\n",
      "ETag: \"dbc016a060da18070593b83afff580c9b300f0b6ea4147a7988433e04df246ca\"\n",
      "Strict-Transport-Security: max-age=31536000\n",
      "X-Content-Type-Options: nosniff\n",
      "X-Frame-Options: deny\n",
      "X-XSS-Protection: 1; mode=block\n",
      "X-GitHub-Request-Id: A4FF:36C6BA:1A3A82:1B16AE:66EC28D4\n",
      "Accept-Ranges: bytes\n",
      "Date: Thu, 19 Sep 2024 13:36:24 GMT\n",
      "Via: 1.1 varnish\n",
      "X-Served-By: cache-pmo2280026-PMO\n",
      "X-Cache: MISS\n",
      "X-Cache-Hits: 0\n",
      "X-Timer: S1726752984.573427,VS0,VE846\n",
      "Vary: Authorization,Accept-Encoding,Origin\n",
      "Access-Control-Allow-Origin: *\n",
      "Cross-Origin-Resource-Policy: cross-origin\n",
      "X-Fastly-Request-ID: 6247f978fb1caa619656e1ef27520035112808e6\n",
      "Expires: Thu, 19 Sep 2024 13:41:24 GMT\n",
      "Source-Age: 1\n",
      "\n",
      "]\n"
     ]
    }
   ],
   "source": [
    "try :\n",
    "    config=ConfigurationManager()\n",
    "    DataIngestionConfig=config.getDataIngestionConfig()\n",
    "    DataIngestion=DataIngestion(config=DataIngestionConfig)\n",
    "    DataIngestion.download_file()\n",
    "    DataIngestion.extractZpFile()\n",
    "except Exception as e:\n",
    "    raise e"
   ]
  }
 ],
 "metadata": {
  "kernelspec": {
   "display_name": ".venv",
   "language": "python",
   "name": "python3"
  },
  "language_info": {
   "codemirror_mode": {
    "name": "ipython",
    "version": 3
   },
   "file_extension": ".py",
   "mimetype": "text/x-python",
   "name": "python",
   "nbconvert_exporter": "python",
   "pygments_lexer": "ipython3",
   "version": "3.12.5"
  }
 },
 "nbformat": 4,
 "nbformat_minor": 2
}
